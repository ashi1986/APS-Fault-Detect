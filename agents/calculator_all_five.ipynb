{
  "nbformat": 4,
  "nbformat_minor": 0,
  "metadata": {
    "colab": {
      "provenance": []
    },
    "kernelspec": {
      "name": "python3",
      "display_name": "Python 3"
    },
    "language_info": {
      "name": "python"
    }
  },
  "cells": [
    {
      "cell_type": "code",
      "source": [
        "# 👉 This is a basic direct program — no AI, no thinking, just code"
      ],
      "metadata": {
        "id": "RNtFjqz5MYUW"
      },
      "execution_count": null,
      "outputs": []
    },
    {
      "cell_type": "code",
      "execution_count": null,
      "metadata": {
        "colab": {
          "base_uri": "https://localhost:8080/"
        },
        "id": "qTslx2OKL9H6",
        "outputId": "24c0c279-3264-4856-9380-e857f4c6f87e"
      },
      "outputs": [
        {
          "output_type": "stream",
          "name": "stdout",
          "text": [
            "🧮 Simple Calculator App\n",
            "Enter a mathematical expression (e.g., 2 + 3 * 5): 2+3*5\n",
            "✅ Result: 17\n"
          ]
        }
      ],
      "source": [
        "def calculator_app():\n",
        "    print(\"🧮 Simple Calculator App\")\n",
        "    expression = input(\"Enter a mathematical expression (e.g., 2 + 3 * 5): \")\n",
        "\n",
        "    try:\n",
        "        result = eval(expression)\n",
        "        print(f\"✅ Result: {result}\")\n",
        "    except Exception as e:\n",
        "        print(f\"❌ Error: {e}\")\n",
        "\n",
        "if __name__ == \"__main__\":\n",
        "    calculator_app()\n"
      ]
    },
    {
      "cell_type": "code",
      "source": [
        "class TraditionalAICalculator:\n",
        "    def __init__(self):\n",
        "        # Define known operations and their rules\n",
        "        self.operations = {\n",
        "            '+': self.add,\n",
        "            '-': self.subtract,\n",
        "            '*': self.multiply,\n",
        "            '/': self.divide\n",
        "        }\n",
        "\n",
        "    def add(self, a, b):\n",
        "        return a + b\n",
        "\n",
        "    def subtract(self, a, b):\n",
        "        return a - b\n",
        "\n",
        "    def multiply(self, a, b):\n",
        "        return a * b\n",
        "\n",
        "    def divide(self, a, b):\n",
        "        if b == 0:\n",
        "            return \"❌ Error: Division by zero\"\n",
        "        return a / b\n",
        "\n",
        "    def parse_expression(self, expression):\n",
        "        \"\"\"Parse simple binary expressions like '5 + 3'\"\"\"\n",
        "        tokens = expression.strip().split()\n",
        "        if len(tokens) != 3:\n",
        "            return \"❌ Error: Please enter in format 'number operator number' (e.g., 5 + 3)\"\n",
        "\n",
        "        try:\n",
        "            a = float(tokens[0])\n",
        "            operator = tokens[1]\n",
        "            b = float(tokens[2])\n",
        "        except ValueError:\n",
        "            return \"❌ Error: Invalid number format.\"\n",
        "\n",
        "        if operator not in self.operations:\n",
        "            return f\"❌ Error: Unsupported operator '{operator}'. Only +, -, *, / allowed.\"\n",
        "\n",
        "        operation_func = self.operations[operator]\n",
        "        result = operation_func(a, b)\n",
        "        return f\"✅ Result: {result}\"\n",
        "\n",
        "# --- Main Runner ---\n",
        "def run_traditional_ai_calculator():\n",
        "    print(\"🧮 Traditional AI Calculator (Rule-Based)\")\n",
        "    calculator = TraditionalAICalculator()\n",
        "\n",
        "    while True:\n",
        "        user_input = input(\"\\nEnter expression (e.g., 5 + 3) or type 'exit' to quit: \")\n",
        "        if user_input.lower() == 'exit':\n",
        "            print(\"\\nGoodbye! 🖐️\")\n",
        "            break\n",
        "\n",
        "        result = calculator.parse_expression(user_input)\n",
        "        print(result)\n",
        "\n",
        "if __name__ == \"__main__\":\n",
        "    run_traditional_ai_calculator()\n"
      ],
      "metadata": {
        "colab": {
          "base_uri": "https://localhost:8080/"
        },
        "id": "frmxb8oMKQri",
        "outputId": "98765bf3-8a89-4973-fb12-352c6b46bb00"
      },
      "execution_count": null,
      "outputs": [
        {
          "output_type": "stream",
          "name": "stdout",
          "text": [
            "🧮 Traditional AI Calculator (Rule-Based)\n",
            "\n",
            "Enter expression (e.g., 5 + 3) or type 'exit' to quit: 3*3\n",
            "❌ Error: Please enter in format 'number operator number' (e.g., 5 + 3)\n",
            "\n",
            "Enter expression (e.g., 5 + 3) or type 'exit' to quit: 4 + 6\n",
            "✅ Result: 10.0\n",
            "\n",
            "Enter expression (e.g., 5 + 3) or type 'exit' to quit: exit\n",
            "\n",
            "Goodbye! 🖐️\n"
          ]
        }
      ]
    },
    {
      "cell_type": "code",
      "source": [
        "import random\n",
        "import pandas as pd\n",
        "from sklearn.tree import DecisionTreeRegressor\n",
        "from sklearn.model_selection import train_test_split\n",
        "from sklearn.preprocessing import LabelEncoder\n",
        "\n",
        "# --- Step 1: Generate Dataset ---\n",
        "def generate_calculator_data(num_samples=1000):\n",
        "    data = []\n",
        "    operators = ['+', '-', '*', '/']\n",
        "\n",
        "    for _ in range(num_samples):\n",
        "        a = random.randint(1, 100)\n",
        "        b = random.randint(1, 100)\n",
        "        op = random.choice(operators)\n",
        "\n",
        "        if op == '+':\n",
        "            result = a + b\n",
        "        elif op == '-':\n",
        "            result = a - b\n",
        "        elif op == '*':\n",
        "            result = a * b\n",
        "        elif op == '/':\n",
        "            result = a / b if b != 0 else 0  # Avoid divide by zero\n",
        "\n",
        "        data.append([a, op, b, result])\n",
        "\n",
        "    df = pd.DataFrame(data, columns=[\"num1\", \"operator\", \"num2\", \"result\"])\n",
        "    return df\n",
        "\n",
        "# --- Step 2: Prepare Data ---\n",
        "def prepare_data(df):\n",
        "    le = LabelEncoder()\n",
        "    df['operator_encoded'] = le.fit_transform(df['operator'])\n",
        "\n",
        "    X = df[['num1', 'operator_encoded', 'num2']]\n",
        "    y = df['result']\n",
        "    return X, y, le\n",
        "\n",
        "# --- Step 3: Train Model ---\n",
        "def train_model(X, y):\n",
        "    model = DecisionTreeRegressor()\n",
        "    model.fit(X, y)\n",
        "    return model\n",
        "\n",
        "# --- Step 4: Predict based on User Input ---\n",
        "def predict_result(model, le):\n",
        "    print(\"\\n🔢 ML Calculator: Predict Operation Result\")\n",
        "\n",
        "    try:\n",
        "        num1 = float(input(\"Enter first number: \"))\n",
        "        operator = input(\"Enter operator (+, -, *, /): \").strip()\n",
        "        num2 = float(input(\"Enter second number: \"))\n",
        "\n",
        "        if operator not in ['+', '-', '*', '/']:\n",
        "            print(\"❌ Invalid operator.\")\n",
        "            return\n",
        "\n",
        "        operator_encoded = le.transform([operator])[0]\n",
        "        features = [[num1, operator_encoded, num2]]\n",
        "\n",
        "        prediction = model.predict(features)\n",
        "        print(f\"✅ Predicted Result: {prediction[0]:.2f}\")\n",
        "\n",
        "    except Exception as e:\n",
        "        print(f\"❌ Error: {e}\")\n",
        "\n",
        "# --- Full System ---\n",
        "def run_ml_calculator():\n",
        "    print(\"🧠 ML-Based AI Calculator (Learned from Data)\")\n",
        "\n",
        "    # Generate data and train\n",
        "    df = generate_calculator_data()\n",
        "    X, y, label_encoder = prepare_data(df)\n",
        "    model = train_model(X, y)\n",
        "\n",
        "    while True:\n",
        "        choice = input(\"\\nType 'calc' to calculate or 'exit' to quit: \").lower()\n",
        "        if choice == 'exit':\n",
        "            print(\"\\nGoodbye! 🖐️\")\n",
        "            break\n",
        "        elif choice == 'calc':\n",
        "            predict_result(model, label_encoder)\n",
        "        else:\n",
        "            print(\"❓ Unknown command. Type 'calc' or 'exit'.\")\n",
        "\n",
        "if __name__ == \"__main__\":\n",
        "    run_ml_calculator()\n"
      ],
      "metadata": {
        "colab": {
          "base_uri": "https://localhost:8080/"
        },
        "id": "zR9SpoxhK3lu",
        "outputId": "d2bdc71d-10b6-48bf-970a-2ebf85fd7d31"
      },
      "execution_count": null,
      "outputs": [
        {
          "output_type": "stream",
          "name": "stdout",
          "text": [
            "🧠 ML-Based AI Calculator (Learned from Data)\n",
            "\n",
            "Type 'calc' to calculate or 'exit' to quit: calc\n",
            "\n",
            "🔢 ML Calculator: Predict Operation Result\n",
            "Enter first number: 4\n",
            "Enter operator (+, -, *, /): %\n",
            "Enter second number: 2\n",
            "❌ Invalid operator.\n",
            "\n",
            "Type 'calc' to calculate or 'exit' to quit: exit\n",
            "\n",
            "Goodbye! 🖐️\n"
          ]
        }
      ]
    },
    {
      "cell_type": "code",
      "source": [
        "#👉 This time, an AI agent is used.\n",
        "\n",
        "#The agent reads the user’s input as a \"task\"\n",
        "\n",
        "#Understands what to do\n",
        "\n",
        "#Chooses to act (here: only knows how to calculate)"
      ],
      "metadata": {
        "id": "IHdVWd9-MBMd"
      },
      "execution_count": null,
      "outputs": []
    },
    {
      "cell_type": "code",
      "source": [
        "class CalculatorAgent:\n",
        "    def __init__(self):\n",
        "        self.name = \"Simple Calculator Agent\"\n",
        "\n",
        "    def plan(self, user_input):\n",
        "        \"\"\"Decide what to do based on input.\"\"\"\n",
        "        if any(op in user_input for op in ['+', '-', '*', '/', '**']):\n",
        "            return \"calculate\"\n",
        "        else:\n",
        "            return \"unknown\"\n",
        "\n",
        "    def act(self, action, user_input):\n",
        "        if action == \"calculate\":\n",
        "            try:\n",
        "                result = eval(user_input)\n",
        "                return f\"✅ Result: {result}\"\n",
        "            except Exception as e:\n",
        "                return f\"❌ Calculation Error: {e}\"\n",
        "        else:\n",
        "            return \"❓ Sorry, I don't know how to handle this.\"\n",
        "\n",
        "def run_calculator_agent():\n",
        "    agent = CalculatorAgent()\n",
        "    print(f\"🤖 {agent.name} is running.\")\n",
        "\n",
        "    task = input(\"What do you want to calculate? \")\n",
        "    action = agent.plan(task)\n",
        "    response = agent.act(action, task)\n",
        "    print(response)\n",
        "\n",
        "if __name__ == \"__main__\":\n",
        "    run_calculator_agent()\n"
      ],
      "metadata": {
        "colab": {
          "base_uri": "https://localhost:8080/"
        },
        "id": "mqhog3c2Mcn7",
        "outputId": "ab212537-58b9-45f0-a3b5-77db3a9fde0a"
      },
      "execution_count": null,
      "outputs": [
        {
          "output_type": "stream",
          "name": "stdout",
          "text": [
            "🤖 Simple Calculator Agent is running.\n",
            "What do you want to calculate? 2+3*5\n",
            "✅ Result: 17\n"
          ]
        }
      ]
    },
    {
      "cell_type": "code",
      "source": [],
      "metadata": {
        "id": "t0qbwu6TN2fm"
      },
      "execution_count": null,
      "outputs": []
    },
    {
      "cell_type": "code",
      "source": [
        "class AgenticCalculatorSystem:\n",
        "    def __init__(self):\n",
        "        self.tools = {\"calculator\": self.calculate}\n",
        "        self.memory = []\n",
        "\n",
        "    def plan(self, goal):\n",
        "        \"\"\"Multi-step plan: Validate and Decide tool.\"\"\"\n",
        "        if any(op in goal for op in ['+', '-', '*', '/', '**']):\n",
        "            return [\"calculator\"]\n",
        "        else:\n",
        "            return []\n",
        "\n",
        "    def act(self, tool, goal):\n",
        "        \"\"\"Act based on the chosen tool.\"\"\"\n",
        "        action_result = self.tools[tool](goal)\n",
        "        self.memory.append((goal, tool, action_result))\n",
        "        return action_result\n",
        "\n",
        "    def calculate(self, expression):\n",
        "        \"\"\"Perform calculation.\"\"\"\n",
        "        try:\n",
        "            result = eval(expression)\n",
        "            return f\"✅ Calculated Result: {result}\"\n",
        "        except Exception as e:\n",
        "            return f\"❌ Calculation failed: {e}\"\n",
        "\n",
        "    def reflect(self):\n",
        "        \"\"\"Reflect on past actions.\"\"\"\n",
        "        print(\"\\n🧠 Reflection on past actions:\")\n",
        "        for idx, (goal, tool, result) in enumerate(self.memory):\n",
        "            print(f\"{idx+1}. Goal: {goal} | Tool: {tool} | Result: {result}\")\n",
        "\n",
        "def run_agentic_calculator_system():\n",
        "    agentic_system = AgenticCalculatorSystem()\n",
        "    print(\"🧠🤖 Running the Agentic Calculator System.\")\n",
        "\n",
        "    while True:\n",
        "        goal = input(\"\\n🎯 Enter your calculation goal (or type 'exit' to quit): \")\n",
        "\n",
        "        if goal.lower() == \"exit\":\n",
        "            agentic_system.reflect()\n",
        "            print(\"\\nGoodbye! 🖐️\")\n",
        "            break\n",
        "\n",
        "        plan = agentic_system.plan(goal)\n",
        "        if not plan:\n",
        "            print(\"❓ Sorry, I cannot understand this goal.\")\n",
        "            continue\n",
        "\n",
        "        for tool in plan:\n",
        "            result = agentic_system.act(tool, goal)\n",
        "            print(result)\n",
        "\n",
        "if __name__ == \"__main__\":\n",
        "    run_agentic_calculator_system()\n"
      ],
      "metadata": {
        "colab": {
          "base_uri": "https://localhost:8080/"
        },
        "id": "IfBpN24TO8uK",
        "outputId": "8c2e92b9-2908-4068-e8bc-6324661a4e13"
      },
      "execution_count": null,
      "outputs": [
        {
          "output_type": "stream",
          "name": "stdout",
          "text": [
            "🧠🤖 Running the Agentic Calculator System.\n",
            "\n",
            "🎯 Enter your calculation goal (or type 'exit' to quit): 2*5+4\n",
            "✅ Calculated Result: 14\n",
            "\n",
            "🎯 Enter your calculation goal (or type 'exit' to quit): exit\n",
            "\n",
            "🧠 Reflection on past actions:\n",
            "1. Goal: 2*5+4 | Tool: calculator | Result: ✅ Calculated Result: 14\n",
            "\n",
            "Goodbye! 🖐️\n"
          ]
        }
      ]
    }
  ]
}